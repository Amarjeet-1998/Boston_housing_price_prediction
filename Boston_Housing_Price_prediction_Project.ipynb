{
  "nbformat": 4,
  "nbformat_minor": 0,
  "metadata": {
    "colab": {
      "provenance": [],
      "authorship_tag": "ABX9TyOpAQMcqlv3VevmBN9iXooz",
      "include_colab_link": true
    },
    "kernelspec": {
      "name": "python3",
      "display_name": "Python 3"
    },
    "language_info": {
      "name": "python"
    }
  },
  "cells": [
    {
      "cell_type": "markdown",
      "metadata": {
        "id": "view-in-github",
        "colab_type": "text"
      },
      "source": [
        "<a href=\"https://colab.research.google.com/github/Amarjeet-1998/Boston_housing_price_prediction/blob/main/Boston_Housing_Price_prediction_Project.ipynb\" target=\"_parent\"><img src=\"https://colab.research.google.com/assets/colab-badge.svg\" alt=\"Open In Colab\"/></a>"
      ]
    },
    {
      "cell_type": "markdown",
      "source": [
        "# **Boston housing price prediction case study in python**"
      ],
      "metadata": {
        "id": "DzFEZaQlZohK"
      }
    },
    {
      "cell_type": "markdown",
      "source": [
        "This case study is based on the famous Boston housing data. It contains the details of 506 houses in the Boston city.\n",
        "\n",
        "Your task is to create a machine learning model which can predict the average price of house based on its characteristics.\n",
        "\n",
        "In the below case study I will discuss the step by step approach to create a Machine Learning prediction model in such scenarios.\n",
        "\n",
        "You can use this flow as a template to solve any supervised ML Regression problem!.\n",
        "\n",
        "The flow of the case study is as below:\n",
        "\n",
        "\n",
        "*   Reading the data in python.\n",
        "*   Defining the problem statement.\n",
        "*   Identifying the target variable.\n",
        "*   Looking at the distribution of Target variable\n",
        "*   Basic Data exploration.\n",
        "*   Rejecting useless columns\n",
        "*   Visual Exploratory Data Analysis for Data distribution(Histogram and Barcharts).\n",
        "*   Feature selection based on data distribution.\n",
        "*   Outlier treatment.\n",
        "*   Missing Values treatment.\n",
        "*   Visual correlation analysis.\n",
        "*   Statistical correlation analysis(Feature selection).\n",
        "*   Converting data to numerical for ML\n",
        "*   Sampling and K-fold cross validation.\n",
        "*   Trying multiple Regression algorithms\n",
        "*   Selecting the best model.\n",
        "\n",
        "I know its a long list! Take a deep breath... and let us get started!.\n",
        "\n",
        "\n",
        "\n"
      ],
      "metadata": {
        "id": "A6LS8-ZLZ1T9"
      }
    },
    {
      "cell_type": "markdown",
      "source": [
        "# **Reading the data into python**"
      ],
      "metadata": {
        "id": "QPP1ZoPvchc5"
      }
    },
    {
      "cell_type": "markdown",
      "source": [
        "This is one of the most important steps in Machine Learning! You must understand the data and the domain well before trying to apply any machine learning algorithm.\n",
        "\n",
        "The data has one file \" BostonData.csv\".This file contains 506 house details from the Boston city.\n",
        "\n",
        "You can download the data required for this case study here"
      ],
      "metadata": {
        "id": "O6TQ1E74cpg4"
      }
    },
    {
      "cell_type": "markdown",
      "source": [
        "**Data Description**"
      ],
      "metadata": {
        "id": "-jH24jebeCuO"
      }
    },
    {
      "cell_type": "markdown",
      "source": [
        "The business meaning of each column in the data is as below:\n",
        "\n",
        "\n",
        "\n",
        "*   CRIM - per capita crime rate by town\n",
        "*   ZN - proportion of residential land zoned for lots over 25,000 sq.ft.\n",
        "*   INDUS - proportion of non-retail business acres per town.\n",
        "*   CHAS - Charles River dummy variable (1 if tract bounds river; 0 otherwise)\n",
        "*NOX - nitric oxides concentration (parts per 10 million)\n",
        "*RM - average number of rooms per dwelling\n",
        "*AGE - proportion of owner-occupied units built prior to 1940\n",
        "*DIS - weighted distances to five Boston employment centres\n",
        "*RAD - index of accessibility to radial highways\n",
        "*TAX - full-value property-tax rate per 10,000 dollars\n",
        "*PTRATIO - pupil/teacher ratio by town\n",
        "*B - 1000(Bk - 0.63)^2 where Bk is the proportion of blacks by town\n",
        "*LSTAT - % lower status of the population\n",
        "*MEDV - Median value of owner-occupied homes in $1000's\n",
        "\n",
        "\n",
        "\n"
      ],
      "metadata": {
        "id": "DRtusjoReIlH"
      }
    },
    {
      "cell_type": "code",
      "execution_count": 1,
      "metadata": {
        "id": "vnJE6fWQZZQx"
      },
      "outputs": [],
      "source": [
        "# Supressing the warning messages\n",
        "import warnings\n",
        "warnings.filterwarnings('ignore')"
      ]
    },
    {
      "cell_type": "code",
      "source": [
        "# Reading the dataset\n",
        "import pandas as pd\n",
        "import numpy as np\n",
        "\n",
        "BostonData = pd.read_csv(\"/content/BostonHousingData.csv\", encoding = 'latin')\n",
        "\n",
        "print('Shape before deleting duplicate values: ', BostonData.shape)\n",
        "\n",
        "# Removing duplicate rows if any\n",
        "BostonData= BostonData.drop_duplicates()\n",
        "print('Shape After deleting duplicate values: ', BostonData.shape)\n",
        "\n",
        "# Printing sample data\n",
        "# start observing the Quantitative/Categorical/Qualitative variables\n",
        "\n",
        "BostonData.head(10)\n",
        "\n"
      ],
      "metadata": {
        "colab": {
          "base_uri": "https://localhost:8080/",
          "height": 398
        },
        "id": "u8VPGjm5fVUl",
        "outputId": "a2a598a9-d96f-42e2-ba31-6a3d34dc9dce"
      },
      "execution_count": 2,
      "outputs": [
        {
          "output_type": "stream",
          "name": "stdout",
          "text": [
            "Shape before deleting duplicate values:  (506, 14)\n",
            "Shape After deleting duplicate values:  (506, 14)\n"
          ]
        },
        {
          "output_type": "execute_result",
          "data": {
            "text/plain": [
              "      CRIM    ZN  INDUS  CHAS    NOX     RM    AGE     DIS  RAD  TAX  PTRATIO  \\\n",
              "0  0.00632  18.0   2.31     0  0.538  6.575   65.2  4.0900    1  296     15.3   \n",
              "1  0.02731   0.0   7.07     0  0.469  6.421   78.9  4.9671    2  242     17.8   \n",
              "2  0.02729   0.0   7.07     0  0.469  7.185   61.1  4.9671    2  242     17.8   \n",
              "3  0.03237   0.0   2.18     0  0.458  6.998   45.8  6.0622    3  222     18.7   \n",
              "4  0.06905   0.0   2.18     0  0.458  7.147   54.2  6.0622    3  222     18.7   \n",
              "5  0.02985   0.0   2.18     0  0.458  6.430   58.7  6.0622    3  222     18.7   \n",
              "6  0.08829  12.5   7.87     0  0.524  6.012   66.6  5.5605    5  311     15.2   \n",
              "7  0.14455  12.5   7.87     0  0.524  6.172   96.1  5.9505    5  311     15.2   \n",
              "8  0.21124  12.5   7.87     0  0.524  5.631  100.0  6.0821    5  311     15.2   \n",
              "9  0.17004  12.5   7.87     0  0.524  6.004   85.9  6.5921    5  311     15.2   \n",
              "\n",
              "        B  LSTAT  MEDV  \n",
              "0  396.90   4.98  24.0  \n",
              "1  396.90   9.14  21.6  \n",
              "2  392.83   4.03  34.7  \n",
              "3  394.63   2.94  33.4  \n",
              "4  396.90   5.33  36.2  \n",
              "5  394.12   5.21  28.7  \n",
              "6  395.60  12.43  22.9  \n",
              "7  396.90  19.15  27.1  \n",
              "8  386.63  29.93  16.5  \n",
              "9  386.71  17.10  18.9  "
            ],
            "text/html": [
              "\n",
              "  <div id=\"df-5b6a8d81-3e4e-4407-9212-2b140532e87b\">\n",
              "    <div class=\"colab-df-container\">\n",
              "      <div>\n",
              "<style scoped>\n",
              "    .dataframe tbody tr th:only-of-type {\n",
              "        vertical-align: middle;\n",
              "    }\n",
              "\n",
              "    .dataframe tbody tr th {\n",
              "        vertical-align: top;\n",
              "    }\n",
              "\n",
              "    .dataframe thead th {\n",
              "        text-align: right;\n",
              "    }\n",
              "</style>\n",
              "<table border=\"1\" class=\"dataframe\">\n",
              "  <thead>\n",
              "    <tr style=\"text-align: right;\">\n",
              "      <th></th>\n",
              "      <th>CRIM</th>\n",
              "      <th>ZN</th>\n",
              "      <th>INDUS</th>\n",
              "      <th>CHAS</th>\n",
              "      <th>NOX</th>\n",
              "      <th>RM</th>\n",
              "      <th>AGE</th>\n",
              "      <th>DIS</th>\n",
              "      <th>RAD</th>\n",
              "      <th>TAX</th>\n",
              "      <th>PTRATIO</th>\n",
              "      <th>B</th>\n",
              "      <th>LSTAT</th>\n",
              "      <th>MEDV</th>\n",
              "    </tr>\n",
              "  </thead>\n",
              "  <tbody>\n",
              "    <tr>\n",
              "      <th>0</th>\n",
              "      <td>0.00632</td>\n",
              "      <td>18.0</td>\n",
              "      <td>2.31</td>\n",
              "      <td>0</td>\n",
              "      <td>0.538</td>\n",
              "      <td>6.575</td>\n",
              "      <td>65.2</td>\n",
              "      <td>4.0900</td>\n",
              "      <td>1</td>\n",
              "      <td>296</td>\n",
              "      <td>15.3</td>\n",
              "      <td>396.90</td>\n",
              "      <td>4.98</td>\n",
              "      <td>24.0</td>\n",
              "    </tr>\n",
              "    <tr>\n",
              "      <th>1</th>\n",
              "      <td>0.02731</td>\n",
              "      <td>0.0</td>\n",
              "      <td>7.07</td>\n",
              "      <td>0</td>\n",
              "      <td>0.469</td>\n",
              "      <td>6.421</td>\n",
              "      <td>78.9</td>\n",
              "      <td>4.9671</td>\n",
              "      <td>2</td>\n",
              "      <td>242</td>\n",
              "      <td>17.8</td>\n",
              "      <td>396.90</td>\n",
              "      <td>9.14</td>\n",
              "      <td>21.6</td>\n",
              "    </tr>\n",
              "    <tr>\n",
              "      <th>2</th>\n",
              "      <td>0.02729</td>\n",
              "      <td>0.0</td>\n",
              "      <td>7.07</td>\n",
              "      <td>0</td>\n",
              "      <td>0.469</td>\n",
              "      <td>7.185</td>\n",
              "      <td>61.1</td>\n",
              "      <td>4.9671</td>\n",
              "      <td>2</td>\n",
              "      <td>242</td>\n",
              "      <td>17.8</td>\n",
              "      <td>392.83</td>\n",
              "      <td>4.03</td>\n",
              "      <td>34.7</td>\n",
              "    </tr>\n",
              "    <tr>\n",
              "      <th>3</th>\n",
              "      <td>0.03237</td>\n",
              "      <td>0.0</td>\n",
              "      <td>2.18</td>\n",
              "      <td>0</td>\n",
              "      <td>0.458</td>\n",
              "      <td>6.998</td>\n",
              "      <td>45.8</td>\n",
              "      <td>6.0622</td>\n",
              "      <td>3</td>\n",
              "      <td>222</td>\n",
              "      <td>18.7</td>\n",
              "      <td>394.63</td>\n",
              "      <td>2.94</td>\n",
              "      <td>33.4</td>\n",
              "    </tr>\n",
              "    <tr>\n",
              "      <th>4</th>\n",
              "      <td>0.06905</td>\n",
              "      <td>0.0</td>\n",
              "      <td>2.18</td>\n",
              "      <td>0</td>\n",
              "      <td>0.458</td>\n",
              "      <td>7.147</td>\n",
              "      <td>54.2</td>\n",
              "      <td>6.0622</td>\n",
              "      <td>3</td>\n",
              "      <td>222</td>\n",
              "      <td>18.7</td>\n",
              "      <td>396.90</td>\n",
              "      <td>5.33</td>\n",
              "      <td>36.2</td>\n",
              "    </tr>\n",
              "    <tr>\n",
              "      <th>5</th>\n",
              "      <td>0.02985</td>\n",
              "      <td>0.0</td>\n",
              "      <td>2.18</td>\n",
              "      <td>0</td>\n",
              "      <td>0.458</td>\n",
              "      <td>6.430</td>\n",
              "      <td>58.7</td>\n",
              "      <td>6.0622</td>\n",
              "      <td>3</td>\n",
              "      <td>222</td>\n",
              "      <td>18.7</td>\n",
              "      <td>394.12</td>\n",
              "      <td>5.21</td>\n",
              "      <td>28.7</td>\n",
              "    </tr>\n",
              "    <tr>\n",
              "      <th>6</th>\n",
              "      <td>0.08829</td>\n",
              "      <td>12.5</td>\n",
              "      <td>7.87</td>\n",
              "      <td>0</td>\n",
              "      <td>0.524</td>\n",
              "      <td>6.012</td>\n",
              "      <td>66.6</td>\n",
              "      <td>5.5605</td>\n",
              "      <td>5</td>\n",
              "      <td>311</td>\n",
              "      <td>15.2</td>\n",
              "      <td>395.60</td>\n",
              "      <td>12.43</td>\n",
              "      <td>22.9</td>\n",
              "    </tr>\n",
              "    <tr>\n",
              "      <th>7</th>\n",
              "      <td>0.14455</td>\n",
              "      <td>12.5</td>\n",
              "      <td>7.87</td>\n",
              "      <td>0</td>\n",
              "      <td>0.524</td>\n",
              "      <td>6.172</td>\n",
              "      <td>96.1</td>\n",
              "      <td>5.9505</td>\n",
              "      <td>5</td>\n",
              "      <td>311</td>\n",
              "      <td>15.2</td>\n",
              "      <td>396.90</td>\n",
              "      <td>19.15</td>\n",
              "      <td>27.1</td>\n",
              "    </tr>\n",
              "    <tr>\n",
              "      <th>8</th>\n",
              "      <td>0.21124</td>\n",
              "      <td>12.5</td>\n",
              "      <td>7.87</td>\n",
              "      <td>0</td>\n",
              "      <td>0.524</td>\n",
              "      <td>5.631</td>\n",
              "      <td>100.0</td>\n",
              "      <td>6.0821</td>\n",
              "      <td>5</td>\n",
              "      <td>311</td>\n",
              "      <td>15.2</td>\n",
              "      <td>386.63</td>\n",
              "      <td>29.93</td>\n",
              "      <td>16.5</td>\n",
              "    </tr>\n",
              "    <tr>\n",
              "      <th>9</th>\n",
              "      <td>0.17004</td>\n",
              "      <td>12.5</td>\n",
              "      <td>7.87</td>\n",
              "      <td>0</td>\n",
              "      <td>0.524</td>\n",
              "      <td>6.004</td>\n",
              "      <td>85.9</td>\n",
              "      <td>6.5921</td>\n",
              "      <td>5</td>\n",
              "      <td>311</td>\n",
              "      <td>15.2</td>\n",
              "      <td>386.71</td>\n",
              "      <td>17.10</td>\n",
              "      <td>18.9</td>\n",
              "    </tr>\n",
              "  </tbody>\n",
              "</table>\n",
              "</div>\n",
              "      <button class=\"colab-df-convert\" onclick=\"convertToInteractive('df-5b6a8d81-3e4e-4407-9212-2b140532e87b')\"\n",
              "              title=\"Convert this dataframe to an interactive table.\"\n",
              "              style=\"display:none;\">\n",
              "        \n",
              "  <svg xmlns=\"http://www.w3.org/2000/svg\" height=\"24px\"viewBox=\"0 0 24 24\"\n",
              "       width=\"24px\">\n",
              "    <path d=\"M0 0h24v24H0V0z\" fill=\"none\"/>\n",
              "    <path d=\"M18.56 5.44l.94 2.06.94-2.06 2.06-.94-2.06-.94-.94-2.06-.94 2.06-2.06.94zm-11 1L8.5 8.5l.94-2.06 2.06-.94-2.06-.94L8.5 2.5l-.94 2.06-2.06.94zm10 10l.94 2.06.94-2.06 2.06-.94-2.06-.94-.94-2.06-.94 2.06-2.06.94z\"/><path d=\"M17.41 7.96l-1.37-1.37c-.4-.4-.92-.59-1.43-.59-.52 0-1.04.2-1.43.59L10.3 9.45l-7.72 7.72c-.78.78-.78 2.05 0 2.83L4 21.41c.39.39.9.59 1.41.59.51 0 1.02-.2 1.41-.59l7.78-7.78 2.81-2.81c.8-.78.8-2.07 0-2.86zM5.41 20L4 18.59l7.72-7.72 1.47 1.35L5.41 20z\"/>\n",
              "  </svg>\n",
              "      </button>\n",
              "      \n",
              "  <style>\n",
              "    .colab-df-container {\n",
              "      display:flex;\n",
              "      flex-wrap:wrap;\n",
              "      gap: 12px;\n",
              "    }\n",
              "\n",
              "    .colab-df-convert {\n",
              "      background-color: #E8F0FE;\n",
              "      border: none;\n",
              "      border-radius: 50%;\n",
              "      cursor: pointer;\n",
              "      display: none;\n",
              "      fill: #1967D2;\n",
              "      height: 32px;\n",
              "      padding: 0 0 0 0;\n",
              "      width: 32px;\n",
              "    }\n",
              "\n",
              "    .colab-df-convert:hover {\n",
              "      background-color: #E2EBFA;\n",
              "      box-shadow: 0px 1px 2px rgba(60, 64, 67, 0.3), 0px 1px 3px 1px rgba(60, 64, 67, 0.15);\n",
              "      fill: #174EA6;\n",
              "    }\n",
              "\n",
              "    [theme=dark] .colab-df-convert {\n",
              "      background-color: #3B4455;\n",
              "      fill: #D2E3FC;\n",
              "    }\n",
              "\n",
              "    [theme=dark] .colab-df-convert:hover {\n",
              "      background-color: #434B5C;\n",
              "      box-shadow: 0px 1px 3px 1px rgba(0, 0, 0, 0.15);\n",
              "      filter: drop-shadow(0px 1px 2px rgba(0, 0, 0, 0.3));\n",
              "      fill: #FFFFFF;\n",
              "    }\n",
              "  </style>\n",
              "\n",
              "      <script>\n",
              "        const buttonEl =\n",
              "          document.querySelector('#df-5b6a8d81-3e4e-4407-9212-2b140532e87b button.colab-df-convert');\n",
              "        buttonEl.style.display =\n",
              "          google.colab.kernel.accessAllowed ? 'block' : 'none';\n",
              "\n",
              "        async function convertToInteractive(key) {\n",
              "          const element = document.querySelector('#df-5b6a8d81-3e4e-4407-9212-2b140532e87b');\n",
              "          const dataTable =\n",
              "            await google.colab.kernel.invokeFunction('convertToInteractive',\n",
              "                                                     [key], {});\n",
              "          if (!dataTable) return;\n",
              "\n",
              "          const docLinkHtml = 'Like what you see? Visit the ' +\n",
              "            '<a target=\"_blank\" href=https://colab.research.google.com/notebooks/data_table.ipynb>data table notebook</a>'\n",
              "            + ' to learn more about interactive tables.';\n",
              "          element.innerHTML = '';\n",
              "          dataTable['output_type'] = 'display_data';\n",
              "          await google.colab.output.renderOutput(dataTable, element);\n",
              "          const docLink = document.createElement('div');\n",
              "          docLink.innerHTML = docLinkHtml;\n",
              "          element.appendChild(docLink);\n",
              "        }\n",
              "      </script>\n",
              "    </div>\n",
              "  </div>\n",
              "  "
            ]
          },
          "metadata": {},
          "execution_count": 2
        }
      ]
    },
    {
      "cell_type": "markdown",
      "source": [
        "# **Defining the Problem statement:**\n",
        "\n",
        "**Create a ML model which can predict the price(MEDV) of a house **\n",
        "\n",
        "* Target variable: MEDV\n",
        "* Predictors: CRIM, ZN, INDUS, CHAS, NOX, RM\n",
        "\n",
        "\n",
        "\n",
        "\n"
      ],
      "metadata": {
        "id": "1Uia8ttGgcUC"
      }
    },
    {
      "cell_type": "markdown",
      "source": [
        "# **Determining the type of Machine Learning**\n",
        "\n",
        "Based on the problem statement you can understand that we need to create a supervised ML Regression model, as the target variable is Continuous.\n"
      ],
      "metadata": {
        "id": "CdZMNUAbg3gm"
      }
    },
    {
      "cell_type": "markdown",
      "source": [
        "### Looking at the distribution of Target variable\n",
        "\n",
        "*  If target variable's distribution is too skewed then the predictive modeling will not be possible.\n",
        "* Bell curve is desirable but slightly positive skew or negative skew is also fine\n",
        "* When performing Regression, make sure the histogram looks like a bell curve or slight skewed version of it. Otherwise it impacts the Machine Learning algorithms ability to learn all the scenarios.\n"
      ],
      "metadata": {
        "id": "SFmB8TchhOgG"
      }
    },
    {
      "cell_type": "code",
      "source": [
        "%matplotlib inline\n",
        "# creating histogram as the Target variable is continuous\n",
        "# This will help us to understand the distribution of the MEDV values\n",
        "\n",
        "BostonData['MEDV'].hist()"
      ],
      "metadata": {
        "colab": {
          "base_uri": "https://localhost:8080/",
          "height": 284
        },
        "id": "1lo5Z-5ygB9I",
        "outputId": "cf924aa5-b711-4b23-bd6d-a70a72916050"
      },
      "execution_count": 3,
      "outputs": [
        {
          "output_type": "execute_result",
          "data": {
            "text/plain": [
              "<matplotlib.axes._subplots.AxesSubplot at 0x7f2c14eb1590>"
            ]
          },
          "metadata": {},
          "execution_count": 3
        },
        {
          "output_type": "display_data",
          "data": {
            "text/plain": [
              "<Figure size 432x288 with 1 Axes>"
            ],
            "image/png": "[encoded data removed]"
          },
          "metadata": {
            "needs_background": "light"
          }
        }
      ]
    },
    {
      "cell_type": "markdown",
      "source": [
        "The data distribution of the target variable is satisfactory to proceed further. There are sufficient number of rows for each type of values to learn from."
      ],
      "metadata": {
        "id": "NYenOYEHiAtp"
      }
    },
    {
      "cell_type": "markdown",
      "source": [
        "# **Basic Data Exploration**\n",
        "\n",
        "This step is performed to guage the overall data. The volume of data, the types of columns present in the data. Initial assessment of the data should be done to identify which columns are Quantitative, Categorical or Qualitative.\n",
        "\n",
        "This step helps to start the column rejection process. You must look at each column carefully and ask, does this column affect the values of the Target variable? For example in this case study, you will ask, does this column affect the price of the house? If the answer is a clear \"No\", then remove the column immediately from the data, otherwise keep the column for further analysis.\n",
        "\n",
        "There are four commands which are used for Basic data exploration in Python.\n",
        "\n",
        "* **head()** : This helps to see a few sample rows of the data.\n",
        "*  **info()** : This provides the summarized information of the data.\n",
        "* **describe()** : This provides the summarized information of data.\n",
        "* **nunique()**: This helps us to identify if a column is categorical or continuous.\n",
        "\n"
      ],
      "metadata": {
        "id": "jI7zmTfIiEXQ"
      }
    },
    {
      "cell_type": "code",
      "source": [
        "# Looking at sample rows in the data\n",
        "BostonData.head()"
      ],
      "metadata": {
        "colab": {
          "base_uri": "https://localhost:8080/",
          "height": 206
        },
        "id": "X247Ozlrh0RT",
        "outputId": "17a5ff61-16fa-4451-ba5a-b83b94cc55e0"
      },
      "execution_count": 4,
      "outputs": [
        {
          "output_type": "execute_result",
          "data": {
            "text/plain": [
              "      CRIM    ZN  INDUS  CHAS    NOX     RM   AGE     DIS  RAD  TAX  PTRATIO  \\\n",
              "0  0.00632  18.0   2.31     0  0.538  6.575  65.2  4.0900    1  296     15.3   \n",
              "1  0.02731   0.0   7.07     0  0.469  6.421  78.9  4.9671    2  242     17.8   \n",
              "2  0.02729   0.0   7.07     0  0.469  7.185  61.1  4.9671    2  242     17.8   \n",
              "3  0.03237   0.0   2.18     0  0.458  6.998  45.8  6.0622    3  222     18.7   \n",
              "4  0.06905   0.0   2.18     0  0.458  7.147  54.2  6.0622    3  222     18.7   \n",
              "\n",
              "        B  LSTAT  MEDV  \n",
              "0  396.90   4.98  24.0  \n",
              "1  396.90   9.14  21.6  \n",
              "2  392.83   4.03  34.7  \n",
              "3  394.63   2.94  33.4  \n",
              "4  396.90   5.33  36.2  "
            ],
            "text/html": [
              "\n",
              "  <div id=\"df-808eb888-3c0f-45df-beac-811ab228ccb5\">\n",
              "    <div class=\"colab-df-container\">\n",
              "      <div>\n",
              "<style scoped>\n",
              "    .dataframe tbody tr th:only-of-type {\n",
              "        vertical-align: middle;\n",
              "    }\n",
              "\n",
              "    .dataframe tbody tr th {\n",
              "        vertical-align: top;\n",
              "    }\n",
              "\n",
              "    .dataframe thead th {\n",
              "        text-align: right;\n",
              "    }\n",
              "</style>\n",
              "<table border=\"1\" class=\"dataframe\">\n",
              "  <thead>\n",
              "    <tr style=\"text-align: right;\">\n",
              "      <th></th>\n",
              "      <th>CRIM</th>\n",
              "      <th>ZN</th>\n",
              "      <th>INDUS</th>\n",
              "      <th>CHAS</th>\n",
              "      <th>NOX</th>\n",
              "      <th>RM</th>\n",
              "      <th>AGE</th>\n",
              "      <th>DIS</th>\n",
              "      <th>RAD</th>\n",
              "      <th>TAX</th>\n",
              "      <th>PTRATIO</th>\n",
              "      <th>B</th>\n",
              "      <th>LSTAT</th>\n",
              "      <th>MEDV</th>\n",
              "    </tr>\n",
              "  </thead>\n",
              "  <tbody>\n",
              "    <tr>\n",
              "      <th>0</th>\n",
              "      <td>0.00632</td>\n",
              "      <td>18.0</td>\n",
              "      <td>2.31</td>\n",
              "      <td>0</td>\n",
              "      <td>0.538</td>\n",
              "      <td>6.575</td>\n",
              "      <td>65.2</td>\n",
              "      <td>4.0900</td>\n",
              "      <td>1</td>\n",
              "      <td>296</td>\n",
              "      <td>15.3</td>\n",
              "      <td>396.90</td>\n",
              "      <td>4.98</td>\n",
              "      <td>24.0</td>\n",
              "    </tr>\n",
              "    <tr>\n",
              "      <th>1</th>\n",
              "      <td>0.02731</td>\n",
              "      <td>0.0</td>\n",
              "      <td>7.07</td>\n",
              "      <td>0</td>\n",
              "      <td>0.469</td>\n",
              "      <td>6.421</td>\n",
              "      <td>78.9</td>\n",
              "      <td>4.9671</td>\n",
              "      <td>2</td>\n",
              "      <td>242</td>\n",
              "      <td>17.8</td>\n",
              "      <td>396.90</td>\n",
              "      <td>9.14</td>\n",
              "      <td>21.6</td>\n",
              "    </tr>\n",
              "    <tr>\n",
              "      <th>2</th>\n",
              "      <td>0.02729</td>\n",
              "      <td>0.0</td>\n",
              "      <td>7.07</td>\n",
              "      <td>0</td>\n",
              "      <td>0.469</td>\n",
              "      <td>7.185</td>\n",
              "      <td>61.1</td>\n",
              "      <td>4.9671</td>\n",
              "      <td>2</td>\n",
              "      <td>242</td>\n",
              "      <td>17.8</td>\n",
              "      <td>392.83</td>\n",
              "      <td>4.03</td>\n",
              "      <td>34.7</td>\n",
              "    </tr>\n",
              "    <tr>\n",
              "      <th>3</th>\n",
              "      <td>0.03237</td>\n",
              "      <td>0.0</td>\n",
              "      <td>2.18</td>\n",
              "      <td>0</td>\n",
              "      <td>0.458</td>\n",
              "      <td>6.998</td>\n",
              "      <td>45.8</td>\n",
              "      <td>6.0622</td>\n",
              "      <td>3</td>\n",
              "      <td>222</td>\n",
              "      <td>18.7</td>\n",
              "      <td>394.63</td>\n",
              "      <td>2.94</td>\n",
              "      <td>33.4</td>\n",
              "    </tr>\n",
              "    <tr>\n",
              "      <th>4</th>\n",
              "      <td>0.06905</td>\n",
              "      <td>0.0</td>\n",
              "      <td>2.18</td>\n",
              "      <td>0</td>\n",
              "      <td>0.458</td>\n",
              "      <td>7.147</td>\n",
              "      <td>54.2</td>\n",
              "      <td>6.0622</td>\n",
              "      <td>3</td>\n",
              "      <td>222</td>\n",
              "      <td>18.7</td>\n",
              "      <td>396.90</td>\n",
              "      <td>5.33</td>\n",
              "      <td>36.2</td>\n",
              "    </tr>\n",
              "  </tbody>\n",
              "</table>\n",
              "</div>\n",
              "      <button class=\"colab-df-convert\" onclick=\"convertToInteractive('df-808eb888-3c0f-45df-beac-811ab228ccb5')\"\n",
              "              title=\"Convert this dataframe to an interactive table.\"\n",
              "              style=\"display:none;\">\n",
              "        \n",
              "  <svg xmlns=\"http://www.w3.org/2000/svg\" height=\"24px\"viewBox=\"0 0 24 24\"\n",
              "       width=\"24px\">\n",
              "    <path d=\"M0 0h24v24H0V0z\" fill=\"none\"/>\n",
              "    <path d=\"M18.56 5.44l.94 2.06.94-2.06 2.06-.94-2.06-.94-.94-2.06-.94 2.06-2.06.94zm-11 1L8.5 8.5l.94-2.06 2.06-.94-2.06-.94L8.5 2.5l-.94 2.06-2.06.94zm10 10l.94 2.06.94-2.06 2.06-.94-2.06-.94-.94-2.06-.94 2.06-2.06.94z\"/><path d=\"M17.41 7.96l-1.37-1.37c-.4-.4-.92-.59-1.43-.59-.52 0-1.04.2-1.43.59L10.3 9.45l-7.72 7.72c-.78.78-.78 2.05 0 2.83L4 21.41c.39.39.9.59 1.41.59.51 0 1.02-.2 1.41-.59l7.78-7.78 2.81-2.81c.8-.78.8-2.07 0-2.86zM5.41 20L4 18.59l7.72-7.72 1.47 1.35L5.41 20z\"/>\n",
              "  </svg>\n",
              "      </button>\n",
              "      \n",
              "  <style>\n",
              "    .colab-df-container {\n",
              "      display:flex;\n",
              "      flex-wrap:wrap;\n",
              "      gap: 12px;\n",
              "    }\n",
              "\n",
              "    .colab-df-convert {\n",
              "      background-color: #E8F0FE;\n",
              "      border: none;\n",
              "      border-radius: 50%;\n",
              "      cursor: pointer;\n",
              "      display: none;\n",
              "      fill: #1967D2;\n",
              "      height: 32px;\n",
              "      padding: 0 0 0 0;\n",
              "      width: 32px;\n",
              "    }\n",
              "\n",
              "    .colab-df-convert:hover {\n",
              "      background-color: #E2EBFA;\n",
              "      box-shadow: 0px 1px 2px rgba(60, 64, 67, 0.3), 0px 1px 3px 1px rgba(60, 64, 67, 0.15);\n",
              "      fill: #174EA6;\n",
              "    }\n",
              "\n",
              "    [theme=dark] .colab-df-convert {\n",
              "      background-color: #3B4455;\n",
              "      fill: #D2E3FC;\n",
              "    }\n",
              "\n",
              "    [theme=dark] .colab-df-convert:hover {\n",
              "      background-color: #434B5C;\n",
              "      box-shadow: 0px 1px 3px 1px rgba(0, 0, 0, 0.15);\n",
              "      filter: drop-shadow(0px 1px 2px rgba(0, 0, 0, 0.3));\n",
              "      fill: #FFFFFF;\n",
              "    }\n",
              "  </style>\n",
              "\n",
              "      <script>\n",
              "        const buttonEl =\n",
              "          document.querySelector('#df-808eb888-3c0f-45df-beac-811ab228ccb5 button.colab-df-convert');\n",
              "        buttonEl.style.display =\n",
              "          google.colab.kernel.accessAllowed ? 'block' : 'none';\n",
              "\n",
              "        async function convertToInteractive(key) {\n",
              "          const element = document.querySelector('#df-808eb888-3c0f-45df-beac-811ab228ccb5');\n",
              "          const dataTable =\n",
              "            await google.colab.kernel.invokeFunction('convertToInteractive',\n",
              "                                                     [key], {});\n",
              "          if (!dataTable) return;\n",
              "\n",
              "          const docLinkHtml = 'Like what you see? Visit the ' +\n",
              "            '<a target=\"_blank\" href=https://colab.research.google.com/notebooks/data_table.ipynb>data table notebook</a>'\n",
              "            + ' to learn more about interactive tables.';\n",
              "          element.innerHTML = '';\n",
              "          dataTable['output_type'] = 'display_data';\n",
              "          await google.colab.output.renderOutput(dataTable, element);\n",
              "          const docLink = document.createElement('div');\n",
              "          docLink.innerHTML = docLinkHtml;\n",
              "          element.appendChild(docLink);\n",
              "        }\n",
              "      </script>\n",
              "    </div>\n",
              "  </div>\n",
              "  "
            ]
          },
          "metadata": {},
          "execution_count": 4
        }
      ]
    },
    {
      "cell_type": "code",
      "source": [
        "# Observing the summarized information of data\n",
        "# Data types, Missing values based on number of non-null values Vs total rows etc.\n",
        "# Remove those variables from data which have too many missing values (Missing Values > 30%)\n",
        "# Remove Qualitative variables which cannot be used in Machine Learning\n",
        "BostonData.info()"
      ],
      "metadata": {
        "colab": {
          "base_uri": "https://localhost:8080/"
        },
        "id": "E1dTrWHCjRgS",
        "outputId": "896680e5-b023-412f-df93-86e7469e4bb1"
      },
      "execution_count": 5,
      "outputs": [
        {
          "output_type": "stream",
          "name": "stdout",
          "text": [
            "<class 'pandas.core.frame.DataFrame'>\n",
            "Int64Index: 506 entries, 0 to 505\n",
            "Data columns (total 14 columns):\n",
            " #   Column   Non-Null Count  Dtype  \n",
            "---  ------   --------------  -----  \n",
            " 0   CRIM     506 non-null    float64\n",
            " 1   ZN       506 non-null    float64\n",
            " 2   INDUS    506 non-null    float64\n",
            " 3   CHAS     506 non-null    int64  \n",
            " 4   NOX      506 non-null    float64\n",
            " 5   RM       506 non-null    float64\n",
            " 6   AGE      506 non-null    float64\n",
            " 7   DIS      506 non-null    float64\n",
            " 8   RAD      506 non-null    int64  \n",
            " 9   TAX      506 non-null    int64  \n",
            " 10  PTRATIO  506 non-null    float64\n",
            " 11  B        506 non-null    float64\n",
            " 12  LSTAT    506 non-null    float64\n",
            " 13  MEDV     506 non-null    float64\n",
            "dtypes: float64(11), int64(3)\n",
            "memory usage: 59.3 KB\n"
          ]
        }
      ]
    },
    {
      "cell_type": "code",
      "source": [
        "# Looking at the descriptive statistics of the data\n",
        "BostonData.describe(include='all')"
      ],
      "metadata": {
        "colab": {
          "base_uri": "https://localhost:8080/",
          "height": 300
        },
        "id": "kaitx3JdjXKO",
        "outputId": "d4ac49c3-bc5d-4deb-ecd6-136b08ef04d2"
      },
      "execution_count": 6,
      "outputs": [
        {
          "output_type": "execute_result",
          "data": {
            "text/plain": [
              "             CRIM          ZN       INDUS        CHAS         NOX          RM  \\\n",
              "count  506.000000  506.000000  506.000000  506.000000  506.000000  506.000000   \n",
              "mean     3.613524   11.363636   11.136779    0.069170    0.554695    6.284634   \n",
              "std      8.601545   23.322453    6.860353    0.253994    0.115878    0.702617   \n",
              "min      0.006320    0.000000    0.460000    0.000000    0.385000    3.561000   \n",
              "25%      0.082045    0.000000    5.190000    0.000000    0.449000    5.885500   \n",
              "50%      0.256510    0.000000    9.690000    0.000000    0.538000    6.208500   \n",
              "75%      3.677083   12.500000   18.100000    0.000000    0.624000    6.623500   \n",
              "max     88.976200  100.000000   27.740000    1.000000    0.871000    8.780000   \n",
              "\n",
              "              AGE         DIS         RAD         TAX     PTRATIO           B  \\\n",
              "count  506.000000  506.000000  506.000000  506.000000  506.000000  506.000000   \n",
              "mean    68.574901    3.795043    9.549407  408.237154   18.455534  356.674032   \n",
              "std     28.148861    2.105710    8.707259  168.537116    2.164946   91.294864   \n",
              "min      2.900000    1.129600    1.000000  187.000000   12.600000    0.320000   \n",
              "25%     45.025000    2.100175    4.000000  279.000000   17.400000  375.377500   \n",
              "50%     77.500000    3.207450    5.000000  330.000000   19.050000  391.440000   \n",
              "75%     94.075000    5.188425   24.000000  666.000000   20.200000  396.225000   \n",
              "max    100.000000   12.126500   24.000000  711.000000   22.000000  396.900000   \n",
              "\n",
              "            LSTAT        MEDV  \n",
              "count  506.000000  506.000000  \n",
              "mean    12.653063   22.532806  \n",
              "std      7.141062    9.197104  \n",
              "min      1.730000    5.000000  \n",
              "25%      6.950000   17.025000  \n",
              "50%     11.360000   21.200000  \n",
              "75%     16.955000   25.000000  \n",
              "max     37.970000   50.000000  "
            ],
            "text/html": [
              "\n",
              "  <div id=\"df-2e9bb99d-278f-4803-a439-6485c739f8ea\">\n",
              "    <div class=\"colab-df-container\">\n",
              "      <div>\n",
              "<style scoped>\n",
              "    .dataframe tbody tr th:only-of-type {\n",
              "        vertical-align: middle;\n",
              "    }\n",
              "\n",
              "    .dataframe tbody tr th {\n",
              "        vertical-align: top;\n",
              "    }\n",
              "\n",
              "    .dataframe thead th {\n",
              "        text-align: right;\n",
              "    }\n",
              "</style>\n",
              "<table border=\"1\" class=\"dataframe\">\n",
              "  <thead>\n",
              "    <tr style=\"text-align: right;\">\n",
              "      <th></th>\n",
              "      <th>CRIM</th>\n",
              "      <th>ZN</th>\n",
              "      <th>INDUS</th>\n",
              "      <th>CHAS</th>\n",
              "      <th>NOX</th>\n",
              "      <th>RM</th>\n",
              "      <th>AGE</th>\n",
              "      <th>DIS</th>\n",
              "      <th>RAD</th>\n",
              "      <th>TAX</th>\n",
              "      <th>PTRATIO</th>\n",
              "      <th>B</th>\n",
              "      <th>LSTAT</th>\n",
              "      <th>MEDV</th>\n",
              "    </tr>\n",
              "  </thead>\n",
              "  <tbody>\n",
              "    <tr>\n",
              "      <th>count</th>\n",
              "      <td>506.000000</td>\n",
              "      <td>506.000000</td>\n",
              "      <td>506.000000</td>\n",
              "      <td>506.000000</td>\n",
              "      <td>506.000000</td>\n",
              "      <td>506.000000</td>\n",
              "      <td>506.000000</td>\n",
              "      <td>506.000000</td>\n",
              "      <td>506.000000</td>\n",
              "      <td>506.000000</td>\n",
              "      <td>506.000000</td>\n",
              "      <td>506.000000</td>\n",
              "      <td>506.000000</td>\n",
              "      <td>506.000000</td>\n",
              "    </tr>\n",
              "    <tr>\n",
              "      <th>mean</th>\n",
              "      <td>3.613524</td>\n",
              "      <td>11.363636</td>\n",
              "      <td>11.136779</td>\n",
              "      <td>0.069170</td>\n",
              "      <td>0.554695</td>\n",
              "      <td>6.284634</td>\n",
              "      <td>68.574901</td>\n",
              "      <td>3.795043</td>\n",
              "      <td>9.549407</td>\n",
              "      <td>408.237154</td>\n",
              "      <td>18.455534</td>\n",
              "      <td>356.674032</td>\n",
              "      <td>12.653063</td>\n",
              "      <td>22.532806</td>\n",
              "    </tr>\n",
              "    <tr>\n",
              "      <th>std</th>\n",
              "      <td>8.601545</td>\n",
              "      <td>23.322453</td>\n",
              "      <td>6.860353</td>\n",
              "      <td>0.253994</td>\n",
              "      <td>0.115878</td>\n",
              "      <td>0.702617</td>\n",
              "      <td>28.148861</td>\n",
              "      <td>2.105710</td>\n",
              "      <td>8.707259</td>\n",
              "      <td>168.537116</td>\n",
              "      <td>2.164946</td>\n",
              "      <td>91.294864</td>\n",
              "      <td>7.141062</td>\n",
              "      <td>9.197104</td>\n",
              "    </tr>\n",
              "    <tr>\n",
              "      <th>min</th>\n",
              "      <td>0.006320</td>\n",
              "      <td>0.000000</td>\n",
              "      <td>0.460000</td>\n",
              "      <td>0.000000</td>\n",
              "      <td>0.385000</td>\n",
              "      <td>3.561000</td>\n",
              "      <td>2.900000</td>\n",
              "      <td>1.129600</td>\n",
              "      <td>1.000000</td>\n",
              "      <td>187.000000</td>\n",
              "      <td>12.600000</td>\n",
              "      <td>0.320000</td>\n",
              "      <td>1.730000</td>\n",
              "      <td>5.000000</td>\n",
              "    </tr>\n",
              "    <tr>\n",
              "      <th>25%</th>\n",
              "      <td>0.082045</td>\n",
              "      <td>0.000000</td>\n",
              "      <td>5.190000</td>\n",
              "      <td>0.000000</td>\n",
              "      <td>0.449000</td>\n",
              "      <td>5.885500</td>\n",
              "      <td>45.025000</td>\n",
              "      <td>2.100175</td>\n",
              "      <td>4.000000</td>\n",
              "      <td>279.000000</td>\n",
              "      <td>17.400000</td>\n",
              "      <td>375.377500</td>\n",
              "      <td>6.950000</td>\n",
              "      <td>17.025000</td>\n",
              "    </tr>\n",
              "    <tr>\n",
              "      <th>50%</th>\n",
              "      <td>0.256510</td>\n",
              "      <td>0.000000</td>\n",
              "      <td>9.690000</td>\n",
              "      <td>0.000000</td>\n",
              "      <td>0.538000</td>\n",
              "      <td>6.208500</td>\n",
              "      <td>77.500000</td>\n",
              "      <td>3.207450</td>\n",
              "      <td>5.000000</td>\n",
              "      <td>330.000000</td>\n",
              "      <td>19.050000</td>\n",
              "      <td>391.440000</td>\n",
              "      <td>11.360000</td>\n",
              "      <td>21.200000</td>\n",
              "    </tr>\n",
              "    <tr>\n",
              "      <th>75%</th>\n",
              "      <td>3.677083</td>\n",
              "      <td>12.500000</td>\n",
              "      <td>18.100000</td>\n",
              "      <td>0.000000</td>\n",
              "      <td>0.624000</td>\n",
              "      <td>6.623500</td>\n",
              "      <td>94.075000</td>\n",
              "      <td>5.188425</td>\n",
              "      <td>24.000000</td>\n",
              "      <td>666.000000</td>\n",
              "      <td>20.200000</td>\n",
              "      <td>396.225000</td>\n",
              "      <td>16.955000</td>\n",
              "      <td>25.000000</td>\n",
              "    </tr>\n",
              "    <tr>\n",
              "      <th>max</th>\n",
              "      <td>88.976200</td>\n",
              "      <td>100.000000</td>\n",
              "      <td>27.740000</td>\n",
              "      <td>1.000000</td>\n",
              "      <td>0.871000</td>\n",
              "      <td>8.780000</td>\n",
              "      <td>100.000000</td>\n",
              "      <td>12.126500</td>\n",
              "      <td>24.000000</td>\n",
              "      <td>711.000000</td>\n",
              "      <td>22.000000</td>\n",
              "      <td>396.900000</td>\n",
              "      <td>37.970000</td>\n",
              "      <td>50.000000</td>\n",
              "    </tr>\n",
              "  </tbody>\n",
              "</table>\n",
              "</div>\n",
              "      <button class=\"colab-df-convert\" onclick=\"convertToInteractive('df-2e9bb99d-278f-4803-a439-6485c739f8ea')\"\n",
              "              title=\"Convert this dataframe to an interactive table.\"\n",
              "              style=\"display:none;\">\n",
              "        \n",
              "  <svg xmlns=\"http://www.w3.org/2000/svg\" height=\"24px\"viewBox=\"0 0 24 24\"\n",
              "       width=\"24px\">\n",
              "    <path d=\"M0 0h24v24H0V0z\" fill=\"none\"/>\n",
              "    <path d=\"M18.56 5.44l.94 2.06.94-2.06 2.06-.94-2.06-.94-.94-2.06-.94 2.06-2.06.94zm-11 1L8.5 8.5l.94-2.06 2.06-.94-2.06-.94L8.5 2.5l-.94 2.06-2.06.94zm10 10l.94 2.06.94-2.06 2.06-.94-2.06-.94-.94-2.06-.94 2.06-2.06.94z\"/><path d=\"M17.41 7.96l-1.37-1.37c-.4-.4-.92-.59-1.43-.59-.52 0-1.04.2-1.43.59L10.3 9.45l-7.72 7.72c-.78.78-.78 2.05 0 2.83L4 21.41c.39.39.9.59 1.41.59.51 0 1.02-.2 1.41-.59l7.78-7.78 2.81-2.81c.8-.78.8-2.07 0-2.86zM5.41 20L4 18.59l7.72-7.72 1.47 1.35L5.41 20z\"/>\n",
              "  </svg>\n",
              "      </button>\n",
              "      \n",
              "  <style>\n",
              "    .colab-df-container {\n",
              "      display:flex;\n",
              "      flex-wrap:wrap;\n",
              "      gap: 12px;\n",
              "    }\n",
              "\n",
              "    .colab-df-convert {\n",
              "      background-color: #E8F0FE;\n",
              "      border: none;\n",
              "      border-radius: 50%;\n",
              "      cursor: pointer;\n",
              "      display: none;\n",
              "      fill: #1967D2;\n",
              "      height: 32px;\n",
              "      padding: 0 0 0 0;\n",
              "      width: 32px;\n",
              "    }\n",
              "\n",
              "    .colab-df-convert:hover {\n",
              "      background-color: #E2EBFA;\n",
              "      box-shadow: 0px 1px 2px rgba(60, 64, 67, 0.3), 0px 1px 3px 1px rgba(60, 64, 67, 0.15);\n",
              "      fill: #174EA6;\n",
              "    }\n",
              "\n",
              "    [theme=dark] .colab-df-convert {\n",
              "      background-color: #3B4455;\n",
              "      fill: #D2E3FC;\n",
              "    }\n",
              "\n",
              "    [theme=dark] .colab-df-convert:hover {\n",
              "      background-color: #434B5C;\n",
              "      box-shadow: 0px 1px 3px 1px rgba(0, 0, 0, 0.15);\n",
              "      filter: drop-shadow(0px 1px 2px rgba(0, 0, 0, 0.3));\n",
              "      fill: #FFFFFF;\n",
              "    }\n",
              "  </style>\n",
              "\n",
              "      <script>\n",
              "        const buttonEl =\n",
              "          document.querySelector('#df-2e9bb99d-278f-4803-a439-6485c739f8ea button.colab-df-convert');\n",
              "        buttonEl.style.display =\n",
              "          google.colab.kernel.accessAllowed ? 'block' : 'none';\n",
              "\n",
              "        async function convertToInteractive(key) {\n",
              "          const element = document.querySelector('#df-2e9bb99d-278f-4803-a439-6485c739f8ea');\n",
              "          const dataTable =\n",
              "            await google.colab.kernel.invokeFunction('convertToInteractive',\n",
              "                                                     [key], {});\n",
              "          if (!dataTable) return;\n",
              "\n",
              "          const docLinkHtml = 'Like what you see? Visit the ' +\n",
              "            '<a target=\"_blank\" href=https://colab.research.google.com/notebooks/data_table.ipynb>data table notebook</a>'\n",
              "            + ' to learn more about interactive tables.';\n",
              "          element.innerHTML = '';\n",
              "          dataTable['output_type'] = 'display_data';\n",
              "          await google.colab.output.renderOutput(dataTable, element);\n",
              "          const docLink = document.createElement('div');\n",
              "          docLink.innerHTML = docLinkHtml;\n",
              "          element.appendChild(docLink);\n",
              "        }\n",
              "      </script>\n",
              "    </div>\n",
              "  </div>\n",
              "  "
            ]
          },
          "metadata": {},
          "execution_count": 6
        }
      ]
    },
    {
      "cell_type": "code",
      "source": [
        "# Finging unique values for each column\n",
        "# TO understand which column is categorical and which one is Continuous\n",
        "# Typically if the numer of unique values are < 20 then the variable is likely to be a category otherwise continuous\n",
        "BostonData.nunique()"
      ],
      "metadata": {
        "colab": {
          "base_uri": "https://localhost:8080/"
        },
        "id": "IMuttQ1Bjj9W",
        "outputId": "fac2a422-1d14-47a6-884b-c1549b34f11e"
      },
      "execution_count": 7,
      "outputs": [
        {
          "output_type": "execute_result",
          "data": {
            "text/plain": [
              "CRIM       504\n",
              "ZN          26\n",
              "INDUS       76\n",
              "CHAS         2\n",
              "NOX         81\n",
              "RM         446\n",
              "AGE        356\n",
              "DIS        412\n",
              "RAD          9\n",
              "TAX         66\n",
              "PTRATIO     46\n",
              "B          357\n",
              "LSTAT      455\n",
              "MEDV       229\n",
              "dtype: int64"
            ]
          },
          "metadata": {},
          "execution_count": 7
        }
      ]
    },
    {
      "cell_type": "markdown",
      "source": [
        "# **Basic Data Exploration Results**\n",
        "Based on the basic exploration above, you can now create a simple report of the data, noting down your observations regaring each column. Hence, creating a initial roadmap for further analysis.\n",
        "\n",
        "The selected columns in this step are not final, further study will be done and then a final list will be created\n",
        "\n",
        "* CRIM - Continuous. Selected.\n",
        "* ZN - Continuous. Selected.\n",
        "* INDUS - Continuous. Selected.\n",
        "* CHAS - Categorical. Selected.\n",
        "* NOX - Continuous. Selected.\n",
        "* RM - Continuous. Selected.\n",
        "* AGE - Continuous. Selected.\n",
        "* DIS - Continuous. Selected.\n",
        "* RAD - Categorical. Selected.\n",
        "* TAX - Continuous. Selected.\n",
        "* PTRATIO - Continuous. Selected.\n",
        "* B - Continuous. Selected.\n",
        "* LSTAT - Continuous. Selected.\n",
        "* MEDV - Continuous. Selected. This is the Target Variable!"
      ],
      "metadata": {
        "id": "6-aA7thAj1uc"
      }
    },
    {
      "cell_type": "markdown",
      "source": [
        "# **Removing useless columns from the data**\n",
        "\n",
        "There are no qualitative variables in the data."
      ],
      "metadata": {
        "id": "07Itwk17kRAW"
      }
    },
    {
      "cell_type": "markdown",
      "source": [
        "# **Visual Exploratory Data Analysis**\n",
        "\n",
        "* Categorical variables: Bar plot\n",
        "* Continuous variable: Histogram\n"
      ],
      "metadata": {
        "id": "F79_RTmskY-C"
      }
    },
    {
      "cell_type": "markdown",
      "source": [
        "**Visualize distribution of all the Categorical Predictor variables in the data using bar plots**\n",
        "\n",
        "\n",
        "\n",
        "We can spot a categorical variable in the data by looking at the unique values in them. Typically a categorical variable contains less than 20 Unique values AND there is repetition of values, which means the data can be grouped by those unique values.\n",
        "\n",
        "Based on the Basic Data Exploration above, we have spotted two categorical predictors in the data\n",
        "\n",
        "**Categorical Predictors**\n",
        "\n",
        "'CHAS','RAD'\n",
        "\n",
        "we use bar charts to see how the data is distributed for these categorical columns.\n"
      ],
      "metadata": {
        "id": "6o0S3Lbdky0q"
      }
    },
    {
      "cell_type": "code",
      "source": [
        "# Plotting multiple bar charts at once for categorical variables\n",
        "# Since there is no default function which can plot bar charts for multiple columns at once\n",
        "# we are defining our own function for the same\n",
        "\n",
        "def PlotBarCharts(inpData, colsToPlot):\n",
        "    %matplotlib inline\n",
        "    \n",
        "    import matplotlib.pyplot as plt\n",
        "    \n",
        "    # Generating multiple subplots\n",
        "    fig, subPlot=plt.subplots(nrows=1, ncols=len(colsToPlot), figsize=(20,5))\n",
        "    fig.suptitle('Bar charts of: '+ str(colsToPlot))\n",
        "\n",
        "    for colName, plotNumber in zip(colsToPlot, range(len(colsToPlot))):\n",
        "        inpData.groupby(colName).size().plot(kind='bar',ax=subPlot[plotNumber])\n",
        "\n"
      ],
      "metadata": {
        "id": "G-WCF3RfjvJ3"
      },
      "execution_count": 13,
      "outputs": []
    },
    {
      "cell_type": "code",
      "source": [
        "#####################################################################\n",
        "# Calling the function\n",
        "PlotBarCharts(inpData=BostonData, colsToPlot=['CHAS','RAD'])\n"
      ],
      "metadata": {
        "id": "eDh91945eyRJ",
        "outputId": "3c65486f-26fe-405c-9a4e-f252021f7bf9",
        "colab": {
          "base_uri": "https://localhost:8080/",
          "height": 372
        }
      },
      "execution_count": 14,
      "outputs": [
        {
          "output_type": "display_data",
          "data": {
            "text/plain": [
              "<Figure size 1440x360 with 2 Axes>"
            ],
            "image/png": "[encoded data removed]"
          },
          "metadata": {
            "needs_background": "light"
          }
        }
      ]
    },
    {
      "cell_type": "markdown",
      "source": [
        "# Bar Charts Interpretation"
      ],
      "metadata": {
        "id": "xNTjB8mnfwzG"
      }
    },
    {
      "cell_type": "markdown",
      "source": [
        "These bar charts represent the frequencies of each category in the Y-axis and the category names in the X-axis.\n",
        "\n",
        "\n",
        "In the ideal bar chart each category has comparable frequency. Hence, there are enough rows for each category in the data for the ML algorithm to learn.\n",
        "\n",
        "if there is a column which shows too skewed distribution where there is only one dominant bar and the other categories are present in very low numbers. These kind of columns may not be very helpful in Machine learning. we confirm this in the correlation analysis section and take a final call to select or reject the column.\n",
        "\n",
        "In this data, \"CHAS\" is skewed. There is just one bar which is dominating and other one have very less rows. Such columns may not be correlated with the target variable beacuse there is no information to learn. The algorithms cannot find any rule like when the value is this then the target variable is that.\n",
        "\n",
        "whenever in doubt, always investigate the column further.\n",
        "\n",
        "**Selected categorical variables** : Both the categorical variables afre selected for further analysis.\n",
        "\n",
        "'CHAS','RAD'\n",
        "\n",
        "\n",
        "# **visualize distribution of all the Continuous Predictor variables in the data using histograms**\n",
        "\n",
        "Based on the Basic Data Exploration, there are eleven continuous predictor variables 'CRIM','ZN','INDUS','NOX','RM','AGE','DIS','TAX','PTRATIO','B',and 'LSTAT'.\n",
        "\n",
        "\n"
      ],
      "metadata": {
        "id": "jOKc5-1gf3--"
      }
    },
    {
      "cell_type": "code",
      "source": [
        "# Plotting histograms of multiple columns together\n",
        "BostonData.hist(['CRIM','ZN','INDUS','NOX','RM','AGE','DIS','TAX','PTRATIO','B','LSTAT'], figsize =(18,10))"
      ],
      "metadata": {
        "id": "ITR7GvmDfLRu",
        "outputId": "b9d632a4-f3c7-4476-deee-1186b912408a",
        "colab": {
          "base_uri": "https://localhost:8080/",
          "height": 833
        }
      },
      "execution_count": 15,
      "outputs": [
        {
          "output_type": "execute_result",
          "data": {
            "text/plain": [
              "array([[<matplotlib.axes._subplots.AxesSubplot object at 0x7f2c11c10390>,\n",
              "        <matplotlib.axes._subplots.AxesSubplot object at 0x7f2c11c52310>,\n",
              "        <matplotlib.axes._subplots.AxesSubplot object at 0x7f2c11bd2c50>],\n",
              "       [<matplotlib.axes._subplots.AxesSubplot object at 0x7f2c11b95290>,\n",
              "        <matplotlib.axes._subplots.AxesSubplot object at 0x7f2c11b48890>,\n",
              "        <matplotlib.axes._subplots.AxesSubplot object at 0x7f2c11b00e90>],\n",
              "       [<matplotlib.axes._subplots.AxesSubplot object at 0x7f2c11ac4550>,\n",
              "        <matplotlib.axes._subplots.AxesSubplot object at 0x7f2c11a78a90>,\n",
              "        <matplotlib.axes._subplots.AxesSubplot object at 0x7f2c11a78ad0>],\n",
              "       [<matplotlib.axes._subplots.AxesSubplot object at 0x7f2c11a3e210>,\n",
              "        <matplotlib.axes._subplots.AxesSubplot object at 0x7f2c119add10>,\n",
              "        <matplotlib.axes._subplots.AxesSubplot object at 0x7f2c11970350>]],\n",
              "      dtype=object)"
            ]
          },
          "metadata": {},
          "execution_count": 15
        },
        {
          "output_type": "display_data",
          "data": {
            "text/plain": [
              "<Figure size 1296x720 with 12 Axes>"
            ],
            "image/png": "[encoded data removed]"
          },
          "metadata": {
            "needs_background": "light"
          }
        }
      ]
    },
    {
      "cell_type": "markdown",
      "source": [
        "# Histogram Interpretation\n",
        "\n",
        "\n",
        "Histograms shows us the data distribution for a single continuous variable.\n",
        "\n",
        "The X-axis shows the range of values and Y-axis represent the numnber of values in that range. For example, in the above histogram of 'AGE', there are around 200 rows in data that has age value between 90 to 100.\n",
        "\n",
        "The ideal outcome for histogram is a bell curve or slightly skewed bell curve. If there is too much skewness, then outlier treatment should be done and the column should be re-examined, if that also does not solve the problem then only reject the column.\n",
        "\n",
        "\n",
        "**Selected Continuous Variables:**\n",
        "\n",
        "* CRIM : Selected.Outliers seen beyond 40, need to treat them.\n",
        "* ZN : Selected. The distribution is good.\n",
        "* INDUS :Selected. The distribution is good.\n",
        "* NOX : Selected. The distribution is good.\n",
        "* RM : Selected. The distributed is good.\n",
        "* AGE : Selected. The distribution is good.\n",
        "* DIS : Selected. The distribution is good.\n",
        "* Tax : Selected. The distribution is good.\n",
        "* PTRATIO : Selected. The distribution is good.\n",
        "* B : Selected. The distribution is good.\n",
        "* LSTAT : Selected. The distribution is good.\n"
      ],
      "metadata": {
        "id": "g9hx3gYQjgXx"
      }
    },
    {
      "cell_type": "markdown",
      "source": [
        "# Outlier treatment\n",
        "\n",
        "Outliers are extreme values in the data which are far away from most of the values. You can see them as the tails in the histogram.\n",
        "\n",
        "Outlier must be treated one column at a time. As the treatment will be slightly different for each column.\n",
        "\n",
        "**Why I should treat the outliers?**\n",
        "\n",
        "Outliers bias the training of machine learning models. As the algorithm tries to fit the extreme value, it goes away from majority of the data.\n",
        "\n",
        "There are below two options to treat outliers in the data.\n",
        "\n",
        "* Option-1: Delete the outlier Records. Only if there are just few rows lost.\n",
        "\n",
        "* Option-2: Impute the outlier values with a logical business value\n",
        "\n",
        "Below we are finding out the most logical value to be replaced in place of"
      ],
      "metadata": {
        "id": "dpf-1ld2mQD8"
      }
    },
    {
      "cell_type": "markdown",
      "source": [
        "### Replacing outliers for'CRIM'\n"
      ],
      "metadata": {
        "id": "EBEsU5Mvmeds"
      }
    },
    {
      "cell_type": "code",
      "source": [
        "# Finding nearest values to 60 mark\n",
        "BostonData['CRIM'][BostonData['CRIM']<60].sort_values(ascending=False)"
      ],
      "metadata": {
        "id": "l4XA1CJ6jY4a",
        "outputId": "9a78fa34-8e4b-4a71-a602-7feae28909f1",
        "colab": {
          "base_uri": "https://localhost:8080/"
        }
      },
      "execution_count": 16,
      "outputs": [
        {
          "output_type": "execute_result",
          "data": {
            "text/plain": [
              "410    51.13580\n",
              "414    45.74610\n",
              "404    41.52920\n",
              "398    38.35180\n",
              "427    37.66190\n",
              "         ...   \n",
              "55      0.01311\n",
              "341     0.01301\n",
              "285     0.01096\n",
              "284     0.00906\n",
              "0       0.00632\n",
              "Name: CRIM, Length: 503, dtype: float64"
            ]
          },
          "metadata": {},
          "execution_count": 16
        }
      ]
    },
    {
      "cell_type": "markdown",
      "source": [
        "Above result shows the nearest logical value is 51.13. hence,replacing any value above 60 with it."
      ],
      "metadata": {
        "id": "6y6wGXUXm7lX"
      }
    },
    {
      "cell_type": "code",
      "source": [
        "# Replacing outliers with nearest possible value\n",
        "BostonData['CRIM'][BostonData['CRIM']>60] = 51.13"
      ],
      "metadata": {
        "id": "sEOAv1hdjdG-"
      },
      "execution_count": 17,
      "outputs": []
    },
    {
      "cell_type": "markdown",
      "source": [
        "# **Visualization distribution after outlier treatment**\n",
        "\n",
        "The distribution has improved after outlier treatment. There is still a tail but it is thick, that means there are many values in that range. hence, it is acceptable.\n"
      ],
      "metadata": {
        "id": "JQSYxVLGndOi"
      }
    },
    {
      "cell_type": "code",
      "source": [
        "BostonData.hist(['CRIM'], figsize=(18,5))"
      ],
      "metadata": {
        "id": "IXTIxpThnakh",
        "outputId": "127d666b-61ee-4a6b-c5f2-957aa64f2fae",
        "colab": {
          "base_uri": "https://localhost:8080/",
          "height": 371
        }
      },
      "execution_count": 18,
      "outputs": [
        {
          "output_type": "execute_result",
          "data": {
            "text/plain": [
              "array([[<matplotlib.axes._subplots.AxesSubplot object at 0x7f2c1189fb10>]],\n",
              "      dtype=object)"
            ]
          },
          "metadata": {},
          "execution_count": 18
        },
        {
          "output_type": "display_data",
          "data": {
            "text/plain": [
              "<Figure size 1296x360 with 1 Axes>"
            ],
            "image/png": "[encoded data removed]"
          },
          "metadata": {
            "needs_background": "light"
          }
        }
      ]
    },
    {
      "cell_type": "markdown",
      "source": [
        "# Missing values treatment\n",
        "\n",
        "Missing values are treated for each column separately.\n",
        "\n",
        "if a column has more than 30% data missing, then missing value treatment cannot be done. That column must be rejected because too much information is missing.\n",
        "\n",
        "There are below options for teating missing values in data.\n",
        "\n",
        "* Delete the missing value rows if there are only few records\n",
        "* Impute the missing values with MEDIAN value for continuous variables\n",
        "* Impute the missing values with MODE value for categorical variables\n",
        "* Interpolate the values based on nearby values\n",
        "* Interpolate the values based on business logic.\n"
      ],
      "metadata": {
        "id": "cbDgLN2QrADR"
      }
    },
    {
      "cell_type": "code",
      "source": [
        "# Finding how many missing values are there for each column \n",
        "BostonData.isnull().sum()"
      ],
      "metadata": {
        "id": "VluhEHxgoCKu",
        "outputId": "ff8760ce-2337-46db-9b87-1bc3ae304b0f",
        "colab": {
          "base_uri": "https://localhost:8080/"
        }
      },
      "execution_count": 19,
      "outputs": [
        {
          "output_type": "execute_result",
          "data": {
            "text/plain": [
              "CRIM       0\n",
              "ZN         0\n",
              "INDUS      0\n",
              "CHAS       0\n",
              "NOX        0\n",
              "RM         0\n",
              "AGE        0\n",
              "DIS        0\n",
              "RAD        0\n",
              "TAX        0\n",
              "PTRATIO    0\n",
              "B          0\n",
              "LSTAT      0\n",
              "MEDV       0\n",
              "dtype: int64"
            ]
          },
          "metadata": {},
          "execution_count": 19
        }
      ]
    },
    {
      "cell_type": "markdown",
      "source": [
        "No missing values in this data!!\n"
      ],
      "metadata": {
        "id": "OtH0WSoYsPff"
      }
    },
    {
      "cell_type": "markdown",
      "source": [
        "# **Feature Selection**"
      ],
      "metadata": {
        "id": "dur5NjQDsVMx"
      }
    },
    {
      "cell_type": "markdown",
      "source": [
        "Now its time to finally choose the best columns(Features) which are correlated to the Target variable. This can be done directly by measuring the correlation values or ANNOVA/CHI-SQUARE tests. However, it is always helpful to visualize the relation between the target variable and each of the predictors to get a better sense of data.\n",
        "\n",
        "I have listed below the techniques used for visualizing relationship between two variables as well as measuring the strength statistically.\n",
        "\n",
        "###**Visual exploration of relationship between variables**\n",
        "\n",
        "* Continuous Vs Continuous -- Scatter plot\n",
        "* Categorical Vs Continuous -- Box Plot\n",
        "* Categorical Vs Categorical --- Grouped Bar plots\n",
        "\n",
        "\n",
        "###**Statistical measurement of relationship strength between variables**\n",
        "\n",
        "* Continuous Vs Continuous -- Correlation matrix\n",
        "* Categorical Vs Continuous -- ANNOVA test\n",
        "* Categorical Vs Categorical ---Chi-Square test\n",
        "\n",
        "In this case study the target variable is continuous, hence below two scenarios will be present\n",
        "\n",
        "* Continuous Target Variable Vs Continuous Predictor\n",
        "* Continuous Target Variable Vs Categorical Predictor"
      ],
      "metadata": {
        "id": "DUNp678uscF0"
      }
    },
    {
      "cell_type": "markdown",
      "source": [
        "# **Relationship exploration: Continuous Vs Continuous -- Scatter Charts**\n",
        "\n",
        "When the Target variable is continuous and the predictor is also continuous, we can visualize the relationship between the two variables using scatter plot and measure the strength of relation using pearsons correlation value.\n"
      ],
      "metadata": {
        "id": "CyJ2xT0lvVXJ"
      }
    },
    {
      "cell_type": "code",
      "source": [],
      "metadata": {
        "id": "Y2sTMEj5sMPf"
      },
      "execution_count": null,
      "outputs": []
    }
  ]
}